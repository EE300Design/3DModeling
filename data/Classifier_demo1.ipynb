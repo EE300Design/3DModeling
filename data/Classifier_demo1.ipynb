{
 "cells": [
  {
   "cell_type": "markdown",
   "metadata": {},
   "source": [
    "# Demoing classifying cube and cylinder image representations\n"
   ]
  },
  {
   "cell_type": "markdown",
   "metadata": {},
   "source": [
    "### Import Libraries\n",
    "- [tensorflow](https://www.tensorflow.org/tutorials/images/classification)"
   ]
  },
  {
   "cell_type": "code",
   "execution_count": 2,
   "metadata": {},
   "outputs": [],
   "source": [
    "import matplotlib.pyplot as plt\n",
    "import numpy as np\n",
    "import os\n",
    "import PIL\n",
    "import tensorflow as tf\n",
    "\n",
    "from tensorflow import keras\n",
    "from tensorflow.keras import layers\n",
    "from tensorflow.keras.models import Sequential\n"
   ]
  },
  {
   "cell_type": "markdown",
   "metadata": {},
   "source": [
    "### Defining directory"
   ]
  },
  {
   "cell_type": "code",
   "execution_count": 6,
   "metadata": {},
   "outputs": [
    {
     "name": "stdout",
     "output_type": "stream",
     "text": [
      "200\n"
     ]
    }
   ],
   "source": [
    "import pathlib\n",
    "dir = \"/Users/erikhuuki/Library/CloudStorage/OneDrive-ThePennsylvaniaStateUniversity/EE300/3DModeling/data\"\n",
    "\n",
    "data_dir = pathlib.Path(dir)\n",
    "images = data_dir.glob('*/*.png')\n",
    "print(len(list(images)))"
   ]
  },
  {
   "cell_type": "markdown",
   "metadata": {},
   "source": [
    "### Show a cube"
   ]
  },
  {
   "cell_type": "code",
   "execution_count": 41,
   "metadata": {},
   "outputs": [
    {
     "data": {
      "image/png": "[encoded data removed]",
      "text/plain": [
       "<PIL.PngImagePlugin.PngImageFile image mode=L size=300x300 at 0x7FEF2390DDC0>"
      ]
     },
     "execution_count": 41,
     "metadata": {},
     "output_type": "execute_result"
    }
   ],
   "source": [
    "cubes = list(data_dir.glob('cubes/*.png'))\n",
    "PIL.Image.open(str(cubes[int(100*np.random.random())]))\n",
    "\n"
   ]
  },
  {
   "cell_type": "code",
   "execution_count": 43,
   "metadata": {},
   "outputs": [
    {
     "name": "stdout",
     "output_type": "stream",
     "text": [
      "Found 200 files belonging to 3 classes.\n",
      "Using 160 files for training.\n"
     ]
    }
   ],
   "source": [
    "batch_size = 32\n",
    "img_height = 300\n",
    "img_width = 300\n",
    "\n",
    "train_ds = tf.keras.utils.image_dataset_from_directory(\n",
    "    data_dir,\n",
    "    validation_split = .2,\n",
    "    subset = \"training\",\n",
    "    shuffle=True,\n",
    "    image_size=(img_height, img_width),\n",
    "    batch_size = batch_size\n",
    ")\n",
    "val_ds = tf.keras.utils.image_dataset_from_directory(\n",
    "    data_dir,\n",
    "    validation_split = .2,\n",
    "    subset = \"validation\",\n",
    "    shuffle=True,\n",
    "    image_size=(img_height, img_width),\n",
    "    batch_size = batch_size\n",
    ")\n",
    "\n",
    "\n",
    "# def parse_image(filename):\n",
    "#     parts = tf.strings.split(filename, os.sep)\n",
    "#     label = parts[-2]\n",
    "\n",
    "#     image = tf.io.read_file(filename)"
   ]
  }
 ],
 "metadata": {
  "interpreter": {
   "hash": "42de30614110e837353cca085f11e984cf1ec86f99248b6b9e10f423825b15a5"
  },
  "kernelspec": {
   "display_name": "Python 3.9.5 ('EE300')",
   "language": "python",
   "name": "python3"
  },
  "language_info": {
   "codemirror_mode": {
    "name": "ipython",
    "version": 3
   },
   "file_extension": ".py",
   "mimetype": "text/x-python",
   "name": "python",
   "nbconvert_exporter": "python",
   "pygments_lexer": "ipython3",
   "version": "3.9.5"
  },
  "orig_nbformat": 4
 },
 "nbformat": 4,
 "nbformat_minor": 2
}
